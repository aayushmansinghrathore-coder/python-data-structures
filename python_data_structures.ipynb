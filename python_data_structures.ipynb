{
  "nbformat": 4,
  "nbformat_minor": 0,
  "metadata": {
    "colab": {
      "provenance": []
    },
    "kernelspec": {
      "name": "python3",
      "display_name": "Python 3"
    },
    "language_info": {
      "name": "python"
    }
  },
  "cells": [
    {
      "cell_type": "markdown",
      "source": [
        "Theory questions"
      ],
      "metadata": {
        "id": "EQzbZ2L7pqcw"
      }
    },
    {
      "cell_type": "markdown",
      "source": [
        "1. What are data structures, and why are they important?"
      ],
      "metadata": {
        "id": "6BZKzdrWk2NH"
      }
    },
    {
      "cell_type": "markdown",
      "source": [
        "ans --\n",
        "Data structures are systematic ways of organizing and storing data so that they can be accessed and modified efficiently. They are important because they help in managing large volumes of data, improve the performance of algorithms, and make problem-solving easier and more structured."
      ],
      "metadata": {
        "id": "U4P-4FvCk7gv"
      }
    },
    {
      "cell_type": "markdown",
      "source": [
        "2. Explain the difference between mutable and immutable data types with examples."
      ],
      "metadata": {
        "id": "S3LxZpHclGc_"
      }
    },
    {
      "cell_type": "markdown",
      "source": [
        "ans --\n",
        "Mutable data types are those that can be changed after creation, whereas immutable data types cannot be modified once created.\n",
        "Examples of mutable types are lists, dictionaries, and sets.\n",
        "\n",
        "Examples of immutable types are strings, tuples, and integers."
      ],
      "metadata": {
        "id": "KzWNThBwlfK4"
      }
    },
    {
      "cell_type": "markdown",
      "source": [
        "3. What are the main differences between lists and tuples in Python?"
      ],
      "metadata": {
        "id": "sBxyZGvLlyGQ"
      }
    },
    {
      "cell_type": "markdown",
      "source": [
        "ans --\n",
        "The main difference between lists and tuples is that lists are mutable while tuples are immutable. Lists can be modified after creation, but tuples cannot.\n",
        " Lists are used when data can change, while tuples are used to store constant or fixed data."
      ],
      "metadata": {
        "id": "yJ0rX0A-l3bn"
      }
    },
    {
      "cell_type": "markdown",
      "source": [
        "4. Describe how dictionaries store data."
      ],
      "metadata": {
        "id": "EsB_X9uJmL3w"
      }
    },
    {
      "cell_type": "markdown",
      "source": [
        "ans --\n",
        "Dictionaries store data in key–value pairs using a structure known as a hash table. Each key is hashed to generate a unique memory address where its corresponding value is stored. This allows fast access, insertion, and deletion of elements."
      ],
      "metadata": {
        "id": "8UkeqHv-mQn2"
      }
    },
    {
      "cell_type": "markdown",
      "source": [
        "5. Why might you use a set instead of a list in Python?"
      ],
      "metadata": {
        "id": "nV3fzjohmWGX"
      }
    },
    {
      "cell_type": "markdown",
      "source": [
        "ans --\n",
        "A set is used instead of a list when duplicate elements need to be removed automatically and when quick membership testing is required. Sets provide faster lookup operations compared to lists because they use hashing internally."
      ],
      "metadata": {
        "id": "uwmF1EkilqPP"
      }
    },
    {
      "cell_type": "markdown",
      "source": [
        "6. What is a string in Python, and how is it different from a list?"
      ],
      "metadata": {
        "id": "10ruXpsSm1vG"
      }
    },
    {
      "cell_type": "markdown",
      "source": [
        "ans --\n",
        "A string in Python is a sequence of characters enclosed within quotes and is immutable, meaning it cannot be changed after creation. A list, on the other hand, is a collection of elements that can include different data types and is mutable, allowing modification of its contents."
      ],
      "metadata": {
        "id": "fjYRkk8pm45_"
      }
    },
    {
      "cell_type": "markdown",
      "source": [
        "7. How do tuples ensure data integrity in Python?"
      ],
      "metadata": {
        "id": "cqQdkBggnCS-"
      }
    },
    {
      "cell_type": "markdown",
      "source": [
        "ans --\n",
        "Tuples ensure data integrity by being immutable. Once a tuple is created, its elements cannot be changed, added, or removed. This immutability protects the data from accidental modification."
      ],
      "metadata": {
        "id": "yM7wyk7znGen"
      }
    },
    {
      "cell_type": "markdown",
      "source": [
        "8. What is a hash table, and how does it relate to dictionaries in Python?"
      ],
      "metadata": {
        "id": "W329LZZHnPc_"
      }
    },
    {
      "cell_type": "markdown",
      "source": [
        "ans --\n",
        "A hash table is a data structure that stores data in key–value pairs, where each key is converted into a hash value to determine its storage location. Python dictionaries use hash tables internally to allow efficient retrieval of values based on keys."
      ],
      "metadata": {
        "id": "--euOCoznXwP"
      }
    },
    {
      "cell_type": "markdown",
      "source": [
        "9. Can lists contain different data types in Python?"
      ],
      "metadata": {
        "id": "gwcyizo6ncpf"
      }
    },
    {
      "cell_type": "markdown",
      "source": [
        "ans --\n",
        "Yes, Python lists can contain elements of different data types, such as integers, strings, floats, and even other lists. This flexibility makes lists a versatile data structure."
      ],
      "metadata": {
        "id": "Et1Jb0u1ngZX"
      }
    },
    {
      "cell_type": "markdown",
      "source": [
        "10. Explain why strings are immutable in Python."
      ],
      "metadata": {
        "id": "M77-Qi31nv-G"
      }
    },
    {
      "cell_type": "markdown",
      "source": [
        "ans --\n",
        "Strings are immutable in Python to ensure data consistency and memory optimization. Once created, the content of a string cannot be changed. Any operation that modifies a string actually creates a new string object."
      ],
      "metadata": {
        "id": "QPsJRYWgn0C2"
      }
    },
    {
      "cell_type": "markdown",
      "source": [
        "11. What advantages do dictionaries offer over lists for certain tasks?"
      ],
      "metadata": {
        "id": "Cv25LTfUn6Cm"
      }
    },
    {
      "cell_type": "markdown",
      "source": [
        "ans --\n",
        "Dictionaries provide faster access to elements because they use keys instead of numerical indices.\n",
        "They are ideal for situations where each piece of data needs to be associated with a specific label or key,\n",
        " improving readability and efficiency."
      ],
      "metadata": {
        "id": "yI3FgcDvn9wP"
      }
    },
    {
      "cell_type": "markdown",
      "source": [
        "12. Describe a scenario where using a tuple would be preferable over a list."
      ],
      "metadata": {
        "id": "fdHvdB1ooRZP"
      }
    },
    {
      "cell_type": "markdown",
      "source": [
        "ans --\n",
        "A tuple is preferable when data should remain constant throughout the program, such as storing coordinates, days of the week, or fixed configuration values. Tuples ensure the data cannot be modified accidentally."
      ],
      "metadata": {
        "id": "4WlN0uBGoV7Q"
      }
    },
    {
      "cell_type": "markdown",
      "source": [
        "13. How do sets handle duplicate values in Python?"
      ],
      "metadata": {
        "id": "5M9rZ1BXoasW"
      }
    },
    {
      "cell_type": "markdown",
      "source": [
        "ans --\n",
        "Sets automatically eliminate duplicate values. When a duplicate element is added to a set, it is ignored because sets are designed to hold only unique items."
      ],
      "metadata": {
        "id": "_n_X9UZfod-4"
      }
    },
    {
      "cell_type": "markdown",
      "source": [
        "14. How does the “in” keyword work differently for lists and dictionaries?"
      ],
      "metadata": {
        "id": "0qo_umM4omp-"
      }
    },
    {
      "cell_type": "markdown",
      "source": [
        "ans --\n",
        "In a list, the “in” keyword checks whether a value exists among the elements of the list. In a dictionary, it checks for the presence of a key, not a value."
      ],
      "metadata": {
        "id": "93m-9Mr1osBX"
      }
    },
    {
      "cell_type": "markdown",
      "source": [
        "15. Can you modify the elements of a tuple? Explain why or why not."
      ],
      "metadata": {
        "id": "ri29fKgaoxwX"
      }
    },
    {
      "cell_type": "markdown",
      "source": [
        "ans --\n",
        "No, the elements of a tuple cannot be modified because tuples are immutable data structures. Once a tuple is created, its content remains fixed, ensuring data consistency."
      ],
      "metadata": {
        "id": "WuGgnxWLo3V-"
      }
    },
    {
      "cell_type": "markdown",
      "source": [
        "16. What is a nested dictionary, and give an example of its use case."
      ],
      "metadata": {
        "id": "g7GCJg3lpDKm"
      }
    },
    {
      "cell_type": "markdown",
      "source": [
        "ans --\n",
        "A nested dictionary is a dictionary that contains one or more dictionaries as its values. It is used to represent hierarchical or structured data, such as storing information about students with their marks in multiple subjects."
      ],
      "metadata": {
        "id": "yOyAo_H1pI-f"
      }
    },
    {
      "cell_type": "markdown",
      "source": [
        "17. Describe the time complexity of accessing elements in a dictionary."
      ],
      "metadata": {
        "id": "i-afyS1OpOhO"
      }
    },
    {
      "cell_type": "markdown",
      "source": [
        "ans --\n",
        "Accessing elements in a dictionary has an average time complexity of O(1) due to the use of hashing. However, in rare cases of hash collisions, the time complexity may become O(n)."
      ],
      "metadata": {
        "id": "l-dI2oKppUQQ"
      }
    },
    {
      "cell_type": "markdown",
      "source": [
        "18. In what situations are lists preferred over dictionaries?"
      ],
      "metadata": {
        "id": "pGgjFsFopgW2"
      }
    },
    {
      "cell_type": "markdown",
      "source": [
        "ans --\n",
        "Lists are preferred when the order of elements is important, when data does not need to be labeled with keys, or when sequential operations and indexing are required."
      ],
      "metadata": {
        "id": "6ELIb2jKp-G_"
      }
    },
    {
      "cell_type": "markdown",
      "source": [
        "19. Why are dictionaries considered unordered, and how does that affect data retrieval?"
      ],
      "metadata": {
        "id": "FpOw9JZmqCtm"
      }
    },
    {
      "cell_type": "markdown",
      "source": [
        "ans --\n",
        "Dictionaries are conceptually unordered because elements are stored based on hash values, not insertion order. Although modern Python versions preserve insertion order, retrieval is still based on keys, not positions, which means order should not be relied upon for logic."
      ],
      "metadata": {
        "id": "QL4HEvTEqJNG"
      }
    },
    {
      "cell_type": "markdown",
      "source": [
        "20. Explain the difference between a list and a dictionary in terms of data retrieval."
      ],
      "metadata": {
        "id": "YUeaYyrBqODe"
      }
    },
    {
      "cell_type": "markdown",
      "source": [
        "ans --\n",
        "In a list, elements are retrieved using their index positions, while in a dictionary, elements are retrieved using unique keys. Dictionary lookups are faster and more meaningful as they provide direct access through keys."
      ],
      "metadata": {
        "id": "qJUoUs-nqSzW"
      }
    },
    {
      "cell_type": "markdown",
      "source": [
        "Practical questions"
      ],
      "metadata": {
        "id": "81b3Jce4qXRu"
      }
    },
    {
      "cell_type": "markdown",
      "source": [
        "1. Write a code to create a string with your name and print it."
      ],
      "metadata": {
        "id": "1qj6QorrsDpg"
      }
    },
    {
      "cell_type": "code",
      "source": [
        "name = \"Aayushman Singh Rathore\"\n",
        "print(name)\n"
      ],
      "metadata": {
        "id": "-FI5yAvesFOQ"
      },
      "execution_count": null,
      "outputs": []
    },
    {
      "cell_type": "markdown",
      "source": [
        "2. Write a code to find the length of the string \"Hello World\"."
      ],
      "metadata": {
        "id": "JFSE1UcbsIrA"
      }
    },
    {
      "cell_type": "code",
      "source": [
        "text = \"Hello World\"\n",
        "print(len(text))\n"
      ],
      "metadata": {
        "id": "nHDMtS-JsMn4"
      },
      "execution_count": null,
      "outputs": []
    },
    {
      "cell_type": "markdown",
      "source": [
        "3. Write a code to slice the first 3 characters from the string \"Python Programming\"."
      ],
      "metadata": {
        "id": "SI90-bqNsSiH"
      }
    },
    {
      "cell_type": "code",
      "source": [
        "text = \"Python Programming\"\n",
        "print(text[:3])\n"
      ],
      "metadata": {
        "id": "pSyrSoAasYBP"
      },
      "execution_count": null,
      "outputs": []
    },
    {
      "cell_type": "markdown",
      "source": [
        "4. Write a code to convert the string \"hello\" to uppercase."
      ],
      "metadata": {
        "id": "wJfUcvcjscQw"
      }
    },
    {
      "cell_type": "code",
      "source": [
        "text = \"hello\"\n",
        "print(text.upper())\n"
      ],
      "metadata": {
        "id": "n1QfQ05ssjEf"
      },
      "execution_count": null,
      "outputs": []
    },
    {
      "cell_type": "markdown",
      "source": [
        "5. Write a code to replace the word \"apple\" with \"orange\" in the string \"I like apple\"."
      ],
      "metadata": {
        "id": "l1-uuHL5sl93"
      }
    },
    {
      "cell_type": "code",
      "source": [
        "text = \"I like apple\"\n",
        "new_text = text.replace(\"apple\", \"orange\")\n",
        "print(new_text)\n"
      ],
      "metadata": {
        "id": "sB2mQIpOspkv"
      },
      "execution_count": null,
      "outputs": []
    },
    {
      "cell_type": "markdown",
      "source": [
        "6. Write a code to create a list with numbers 1 to 5 and print it."
      ],
      "metadata": {
        "id": "3Ls8m-aisr7o"
      }
    },
    {
      "cell_type": "code",
      "source": [
        "numbers = [1, 2, 3, 4, 5]\n",
        "print(numbers)\n"
      ],
      "metadata": {
        "id": "42G9Yp9DszE5"
      },
      "execution_count": null,
      "outputs": []
    },
    {
      "cell_type": "markdown",
      "source": [
        "7. Write a code to append the number 10 to the list [1, 2, 3, 4]."
      ],
      "metadata": {
        "id": "DlkV0ob4s2OC"
      }
    },
    {
      "cell_type": "code",
      "source": [
        "numbers = [1, 2, 3, 4]\n",
        "numbers.append(10)\n",
        "print(numbers)\n"
      ],
      "metadata": {
        "id": "zh70G3zYs5oH"
      },
      "execution_count": null,
      "outputs": []
    },
    {
      "cell_type": "markdown",
      "source": [
        "8. Write a code to remove the number 3 from the list [1, 2, 3, 4, 5]."
      ],
      "metadata": {
        "id": "etan6JJHs8jH"
      }
    },
    {
      "cell_type": "code",
      "source": [
        "numbers = [1, 2, 3, 4, 5]\n",
        "numbers.remove(3)\n",
        "print(numbers)\n"
      ],
      "metadata": {
        "id": "0iPoNQU3tAkJ"
      },
      "execution_count": null,
      "outputs": []
    },
    {
      "cell_type": "markdown",
      "source": [
        "9. Write a code to access the second element in the list ['a', 'b', 'c', 'd']."
      ],
      "metadata": {
        "id": "M8iv4EputDHf"
      }
    },
    {
      "cell_type": "code",
      "source": [
        "letters = ['a', 'b', 'c', 'd']\n",
        "print(letters[1])\n"
      ],
      "metadata": {
        "id": "p2yuFzHRtGhn"
      },
      "execution_count": null,
      "outputs": []
    },
    {
      "cell_type": "markdown",
      "source": [
        "10. Write a code to reverse the list [10, 20, 30, 40, 50]."
      ],
      "metadata": {
        "id": "fy4wHn5ptUio"
      }
    },
    {
      "cell_type": "code",
      "source": [
        "numbers = [10, 20, 30, 40, 50]\n",
        "numbers.reverse()\n",
        "print(numbers)\n"
      ],
      "metadata": {
        "id": "qQucAvGrtYEx"
      },
      "execution_count": null,
      "outputs": []
    },
    {
      "cell_type": "markdown",
      "source": [
        "11. Write a code to create a tuple with the elements 100, 200, 300 and print it."
      ],
      "metadata": {
        "id": "72XG6UE0tbIw"
      }
    },
    {
      "cell_type": "code",
      "source": [
        "numbers = (100, 200, 300)\n",
        "print(numbers)\n"
      ],
      "metadata": {
        "id": "o91UfgXctfJI"
      },
      "execution_count": null,
      "outputs": []
    },
    {
      "cell_type": "markdown",
      "source": [
        "12. Write a code to access the second-to-last element of the tuple ('red', 'green', 'blue', 'yellow')."
      ],
      "metadata": {
        "id": "r6TbfgOlthnZ"
      }
    },
    {
      "cell_type": "code",
      "source": [
        "colors = ('red', 'green', 'blue', 'yellow')\n",
        "print(colors[-2])\n"
      ],
      "metadata": {
        "id": "sCwroNC1tl9f"
      },
      "execution_count": null,
      "outputs": []
    },
    {
      "cell_type": "markdown",
      "source": [
        "13. Write a code to find the minimum number in the tuple (10, 20, 5, 15)."
      ],
      "metadata": {
        "id": "5T07n7kOtuJn"
      }
    },
    {
      "cell_type": "code",
      "source": [
        "numbers = (10, 20, 5, 15)\n",
        "print(min(numbers))\n"
      ],
      "metadata": {
        "id": "Vb-cocKBtxwi"
      },
      "execution_count": null,
      "outputs": []
    },
    {
      "cell_type": "markdown",
      "source": [
        "14. Write a code to find the index of the element \"cat\" in the tuple ('dog', 'cat', 'rabbit')."
      ],
      "metadata": {
        "id": "GgYxFQyCtz__"
      }
    },
    {
      "cell_type": "code",
      "source": [
        "animals = ('dog', 'cat', 'rabbit')\n",
        "print(animals.index(\"cat\"))\n"
      ],
      "metadata": {
        "id": "zyHCAxSct34w"
      },
      "execution_count": null,
      "outputs": []
    },
    {
      "cell_type": "markdown",
      "source": [
        "15. Write a code to create a tuple containing three different fruits and check if \"kiwi\" is in it."
      ],
      "metadata": {
        "id": "WYHVwtjTt6iY"
      }
    },
    {
      "cell_type": "code",
      "source": [
        "fruits = (\"apple\", \"banana\", \"cherry\")\n",
        "print(\"kiwi\" in fruits)\n"
      ],
      "metadata": {
        "id": "T8YLObQYt9pH"
      },
      "execution_count": null,
      "outputs": []
    },
    {
      "cell_type": "markdown",
      "source": [
        "16. Write a code to create a set with the elements 'a', 'b', 'c' and print it."
      ],
      "metadata": {
        "id": "aX9lZM5_t_z3"
      }
    },
    {
      "cell_type": "code",
      "source": [
        "letters = {'a', 'b', 'c'}\n",
        "print(letters)\n"
      ],
      "metadata": {
        "id": "WUmUwVaSuDMp"
      },
      "execution_count": null,
      "outputs": []
    },
    {
      "cell_type": "markdown",
      "source": [
        "17. Write a code to clear all elements from the set {1, 2, 3, 4, 5}."
      ],
      "metadata": {
        "id": "wD8YEHFFuLYv"
      }
    },
    {
      "cell_type": "code",
      "source": [
        "numbers = {1, 2, 3, 4, 5}\n",
        "numbers.clear()\n",
        "print(numbers)\n"
      ],
      "metadata": {
        "id": "AWBhS6MMuOCA"
      },
      "execution_count": null,
      "outputs": []
    },
    {
      "cell_type": "markdown",
      "source": [
        "18. Write a code to remove the element 4 from the set {1, 2, 3, 4}."
      ],
      "metadata": {
        "id": "rFeXLne2uRF_"
      }
    },
    {
      "cell_type": "code",
      "source": [
        "numbers = {1, 2, 3, 4}\n",
        "numbers.remove(4)\n",
        "print(numbers)\n"
      ],
      "metadata": {
        "id": "oApP_IgjuWLf"
      },
      "execution_count": null,
      "outputs": []
    },
    {
      "cell_type": "markdown",
      "source": [
        "19. Write a code to find the union of two sets {1, 2, 3} and {3, 4, 5}."
      ],
      "metadata": {
        "id": "ZijUfK6NugpZ"
      }
    },
    {
      "cell_type": "code",
      "source": [
        "set1 = {1, 2, 3}\n",
        "set2 = {3, 4, 5}\n",
        "print(set1.union(set2))\n"
      ],
      "metadata": {
        "id": "hhNeq3apuj_H"
      },
      "execution_count": null,
      "outputs": []
    },
    {
      "cell_type": "markdown",
      "source": [
        "20. Write a code to find the intersection of two sets {1, 2, 3} and {2, 3, 4}."
      ],
      "metadata": {
        "id": "Cjv7LM2Tun1w"
      }
    },
    {
      "cell_type": "code",
      "source": [
        "set1 = {1, 2, 3}\n",
        "set2 = {2, 3, 4}\n",
        "print(set1.intersection(set2))\n"
      ],
      "metadata": {
        "id": "5RkE-0QLuq3w"
      },
      "execution_count": null,
      "outputs": []
    },
    {
      "cell_type": "markdown",
      "source": [
        "21. Write a code to create a dictionary with the keys \"name\", \"age\", and \"city\", and print it."
      ],
      "metadata": {
        "id": "Cr9b9EEmuyLx"
      }
    },
    {
      "cell_type": "code",
      "source": [
        "person = {\"name\": \"John\", \"age\": 25, \"city\": \"New York\"}\n",
        "print(person)\n"
      ],
      "metadata": {
        "id": "_wiCLTBau1Wf"
      },
      "execution_count": null,
      "outputs": []
    },
    {
      "cell_type": "markdown",
      "source": [
        "22. Write a code to add a new key-value pair \"country\": \"USA\" to the dictionary {'name': 'John', 'age': 25}."
      ],
      "metadata": {
        "id": "YaEe2maDu3vY"
      }
    },
    {
      "cell_type": "code",
      "source": [
        "person = {'name': 'John', 'age': 25}\n",
        "person[\"country\"] = \"USA\"\n",
        "print(person)\n"
      ],
      "metadata": {
        "id": "QDlV3e01u8BJ"
      },
      "execution_count": null,
      "outputs": []
    },
    {
      "cell_type": "markdown",
      "source": [
        "23. Write a code to access the value associated with the key \"name\" in the dictionary {'name': 'Alice', 'age': 30}."
      ],
      "metadata": {
        "id": "C6T-V5R3u-cP"
      }
    },
    {
      "cell_type": "code",
      "source": [
        "person = {'name': 'Alice', 'age': 30}\n",
        "print(person[\"name\"])\n"
      ],
      "metadata": {
        "id": "7N3gI_KMvBlQ"
      },
      "execution_count": null,
      "outputs": []
    },
    {
      "cell_type": "markdown",
      "source": [
        "24. Write a code to remove the key \"age\" from the dictionary {'name': 'Bob', 'age': 22, 'city': 'New York'}."
      ],
      "metadata": {
        "id": "9Q7yRW4svD7p"
      }
    },
    {
      "cell_type": "code",
      "source": [
        "person = {'name': 'Bob', 'age': 22, 'city': 'New York'}\n",
        "del person[\"age\"]\n",
        "print(person)\n"
      ],
      "metadata": {
        "id": "8cyP5a_pvHMo"
      },
      "execution_count": null,
      "outputs": []
    },
    {
      "cell_type": "markdown",
      "source": [
        "25. Write a code to check if the key \"city\" exists in the dictionary {'name': 'Alice', 'city': 'Paris'}."
      ],
      "metadata": {
        "id": "iORWTR34vJ_w"
      }
    },
    {
      "cell_type": "code",
      "source": [
        "person = {'name': 'Alice', 'city': 'Paris'}\n",
        "print(\"city\" in person)\n"
      ],
      "metadata": {
        "id": "SfupmG-OvNdQ"
      },
      "execution_count": null,
      "outputs": []
    },
    {
      "cell_type": "markdown",
      "source": [
        "26. Write a code to create a list, a tuple, and a dictionary, and print them all."
      ],
      "metadata": {
        "id": "4VogVcKFvSnv"
      }
    },
    {
      "cell_type": "code",
      "source": [
        "my_list = [1, 2, 3]\n",
        "my_tuple = (4, 5, 6)\n",
        "my_dict = {\"a\": 10, \"b\": 20}\n",
        "print(my_list)\n",
        "print(my_tuple)\n",
        "print(my_dict)\n"
      ],
      "metadata": {
        "id": "YA7l79_dvVRG"
      },
      "execution_count": null,
      "outputs": []
    },
    {
      "cell_type": "markdown",
      "source": [
        "27. Write a code to create a list of 5 random numbers between 1 and 100, sort it in ascending order, and print the result."
      ],
      "metadata": {
        "id": "i-z2hZVjvZe5"
      }
    },
    {
      "cell_type": "code",
      "source": [
        "import random\n",
        "numbers = random.sample(range(1, 101), 5)\n",
        "numbers.sort()\n",
        "print(numbers)\n"
      ],
      "metadata": {
        "id": "J2Xq_cAUvcoj"
      },
      "execution_count": null,
      "outputs": []
    },
    {
      "cell_type": "markdown",
      "source": [
        "28. Write a code to create a list with strings and print the element at the third index."
      ],
      "metadata": {
        "id": "0zsehVWhvhzK"
      }
    },
    {
      "cell_type": "code",
      "source": [
        "words = [\"apple\", \"banana\", \"cherry\", \"date\", \"fig\"]\n",
        "print(words[3])\n"
      ],
      "metadata": {
        "id": "UPPEsx3Uvm13"
      },
      "execution_count": null,
      "outputs": []
    },
    {
      "cell_type": "markdown",
      "source": [
        "29. Write a code to combine two dictionaries into one and print the result."
      ],
      "metadata": {
        "id": "EcrcVEMBvpjw"
      }
    },
    {
      "cell_type": "code",
      "source": [
        "dict1 = {\"a\": 1, \"b\": 2}\n",
        "dict2 = {\"c\": 3, \"d\": 4}\n",
        "combined = dict1 | dict2   # or dict1.update(dict2)\n",
        "print(combined)\n"
      ],
      "metadata": {
        "id": "ycgBNx__vtep"
      },
      "execution_count": null,
      "outputs": []
    },
    {
      "cell_type": "markdown",
      "source": [
        "30. Write a code to convert a list of strings into a set."
      ],
      "metadata": {
        "id": "dbEfKgxDvwf4"
      }
    },
    {
      "cell_type": "code",
      "source": [
        "words = [\"apple\", \"banana\", \"cherry\", \"apple\"]\n",
        "unique_words = set(words)\n",
        "print(unique_words)\n"
      ],
      "metadata": {
        "id": "a-zsVGxtv0G4"
      },
      "execution_count": null,
      "outputs": []
    }
  ]
}